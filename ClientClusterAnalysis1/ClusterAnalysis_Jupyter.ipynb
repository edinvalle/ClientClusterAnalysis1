{
 "cells": [
  {
   "cell_type": "markdown",
   "id": "5c28e59d-c43f-4ea5-9a2b-b2fc93ffbd02",
   "metadata": {},
   "source": [
    "<h1 style=\"text-align: center;\">Data Clustering Analysis</h1>\n",
    "\n",
    "#### Autor: Edin Del Valle"
   ]
  },
  {
   "cell_type": "markdown",
   "id": "5b1d304c-ea65-4aa8-8bf8-f02030d96e8f",
   "metadata": {},
   "source": [
    "\n",
    "<h1 style=\"text-align: center;\">Introducción</h1>\n",
    "\n",
    "El clustering es un método de agrupamiento de clientes o conjuntos de datos que consiste en dividirlos en grupos homogéneos, donde los elementos dentro de cada conjunto son más similares entre sí en comparación con aquellos de diferentes grupos. Es útil en el análisis de datos para identificar relaciones y patrones, tanto en el área de marketing, para mejorar las estrategias, como en la optimización de recursos según sea el análisis. Los datos de este análisis provienen de Kaggle, Dev Sharma.(2021) de un centro comercial de supermercados. \n",
    "\n",
    "El objetivo es identificar a los clientes mediante un análisis descriptivo, análisis de correlación, análisis de clustering y finalmente la evaluación de la calidad del clustering utilizando tres variables: Edad, Renta (Ingresos) y Tamaño de la Ciudad. Estas tres variables fueron elegidas debido a su impacto directo en el comportamiento de compra y el estilo de vida de los clientes. Solo se necesita analizar si en los clientes influyen la edad y el tamaño de la ciudad respecto a sus ingresos. Aspectos clave para definir estrategias de marketing y planificación comercial. \n",
    "\n",
    "Esto nos permite reconocer a los clientes para una mejor ubicación geográfica y promoción. Se aplicarán las siguientes técnicas de clustering: K-means, evaluando el número de clusters con el método del codo y el coeficiente de silueta para determinar la cantidad óptima.\n",
    "\n",
    "# Objetivo General\n",
    "\n",
    "Segmentar a los clientes del supermercado mediante técnicas de clustering basadas en características y socioeconómicas, para identificar grupos y optimizar la toma de desiciones y planificación comercial.\n",
    "\n",
    "-   Realizar un analisis descriptivo de las variables para entender la distribución de los datos y detectar los patrones iniciales.\n",
    "\n",
    "-   Seleccionar las variables mas relevantes que representen el comportamiento socioeconómico de los clientes.\n",
    "\n",
    "-   Aplicar técnicas de clustering, como K-means y evaluar el número óptimo de clústeres mediante el método de codo y el coeficiente de silhouette."
   ]
  },
  {
   "cell_type": "code",
   "execution_count": 2,
   "id": "09e89da8-edbf-43b2-8872-a6cfea0d5170",
   "metadata": {},
   "outputs": [],
   "source": [
    "# Cargar bibliotecas necesarias para el análisis\n",
    "suppressPackageStartupMessages(library(dplyr))\n",
    "suppressPackageStartupMessages(library(gridExtra))\n",
    "\n",
    "library(readxl)\n",
    "library(dplyr)\n",
    "library(ggplot2)\n",
    "library(cluster)\n",
    "library(factoextra)\n",
    "library(gridExtra)\n",
    "library(knitr)"
   ]
  },
  {
   "cell_type": "code",
   "execution_count": 3,
   "id": "cc00834b-9355-4185-982f-db4ca44f12d6",
   "metadata": {},
   "outputs": [
    {
     "data": {
      "text/plain": [
       "\n",
       "\n",
       "  ID      Sex    Marital status    Age    Education    Income    Occupation    Settlement size \n",
       "-------  -----  ----------------  -----  -----------  --------  ------------  -----------------\n",
       " 1e+08     0           0           67         2        124670        1                2        \n",
       " 1e+08     1           1           22         1        150773        1                2        \n",
       " 1e+08     0           0           49         1        89210         0                0        \n",
       " 1e+08     0           0           45         1        171565        1                1        \n",
       " 1e+08     0           0           53         1        149031        1                1        "
      ]
     },
     "metadata": {},
     "output_type": "display_data"
    }
   ],
   "source": [
    "# Cargar el dataset\n",
    "data <- read_excel(\"~/Rstudio/Proyectos/Customer_Data.xlsx\")\n",
    "# Mostrar las primeras filas del conjunto de datos\n",
    "kable(head(data, 5), format = \"pandoc\", align = \"c\")"
   ]
  },
  {
   "cell_type": "markdown",
   "id": "0396054f-60fb-4edc-976c-7d69529124ec",
   "metadata": {},
   "source": [
    "# 1. Análisis Descriptivo de Datos\n",
    "\n",
    "## 1.1. Medidas de Tendencia Central"
   ]
  },
  {
   "cell_type": "code",
   "execution_count": 4,
   "id": "0b9d803f-d754-405f-ad24-407058f57d81",
   "metadata": {},
   "outputs": [
    {
     "data": {
      "text/plain": [
       "\n",
       "\n",
       "|Variable        |      Media|  Mediana|  Moda|\n",
       "|:---------------|----------:|--------:|-----:|\n",
       "|Income          | 120954.419| 115548.5| 69487|\n",
       "|Age             |     35.909|     33.0|    26|\n",
       "|Settlement size |      0.739|      1.0|     0|"
      ]
     },
     "metadata": {},
     "output_type": "display_data"
    }
   ],
   "source": [
    "# Calcular la media\n",
    "mean_income <- mean(data$Income, na.rm = TRUE)\n",
    "mean_age <- mean(data$Age, na.rm = TRUE)\n",
    "mean_settlement <- mean(data$`Settlement size`, na.rm = TRUE)\n",
    "\n",
    "# Calcular la mediana\n",
    "median_income <- median(data$Income, na.rm = TRUE)\n",
    "median_age <- median(data$Age, na.rm = TRUE)\n",
    "median_settlement <- median(data$`Settlement size`, na.rm = TRUE)\n",
    "\n",
    "# Función para evaluar la moda más frecuente\n",
    "calcular_moda <- function(x) {\n",
    "  modas <- as.numeric(names(table(x))[table(x) == max(table(x))])\n",
    "  return(modas[1])  # Devuelve solo la primera moda si hay varias\n",
    "}\n",
    "\n",
    "# Calcular la moda\n",
    "mode_income <- calcular_moda(data$Income)\n",
    "mode_age <- calcular_moda(data$Age)\n",
    "mode_settlement <- calcular_moda(data$`Settlement size`)\n",
    "\n",
    "# Crear una tabla con los resultados\n",
    "tendencia_central <- data.frame(\n",
    "  Variable = c(\"Income\", \"Age\", \"Settlement size\"),\n",
    "  Media = c(mean_income, mean_age, mean_settlement),\n",
    "  Mediana = c(median_income, median_age, median_settlement),\n",
    "  Moda = c(mode_income, mode_age, mode_settlement)\n",
    ")\n",
    "\n",
    "# Imprimir la tabla de resultados\n",
    "kable(tendencia_central)"
   ]
  },
  {
   "cell_type": "markdown",
   "id": "5d22a433-91dd-4434-943c-a3e919db9d75",
   "metadata": {},
   "source": [
    "Los datos proporcionados muestran información sobre ingresos, edad y tamaño de la ciudad. Se calcularon estadísticas descriptivas que proporcionan una visión valiosa de este proyecto. El ingreso promedio es de 120,954.42, con una mediana de 115,548.50 y una moda de 69,487. Esto sugiere que, aunque el ingreso promedio es alto, la mayoría de las personas ganan de 69,487 indicando una posible distribución sesgada hacia ingresos más altos. \n",
    "\n",
    "La edad promedio es de 36 años, con una mediana de 33 años y una moda de 26 años, lo que indica una población mayoritariamente de jóvenes adultos. El tamaño de la ciudad tiene un promedio de 0.739, una mediana de 1 y una moda de 0, sugiriendo que la mayoría vive en áreas más pequeñas ciudades. Estos datos ofrecen una visión general de las características demográficas y económicas de la muestra."
   ]
  },
  {
   "cell_type": "markdown",
   "id": "ecf79b5c-de8b-450a-acc7-3db530e3826d",
   "metadata": {},
   "source": [
    "## 1.2. Medidas de dispersión"
   ]
  },
  {
   "cell_type": "code",
   "execution_count": 5,
   "id": "95fddc8e-d6a1-4cb6-ab25-a65317a496c8",
   "metadata": {},
   "outputs": [
    {
     "data": {
      "text/plain": [
       "\n",
       "\n",
       "|Variable        |           SD|   IQR|     Variance|\n",
       "|:---------------|------------:|-----:|------------:|\n",
       "|Income          | 3.810882e+04| 40409| 1.452283e+09|\n",
       "|Age             | 1.171940e+01|    15| 1.373444e+02|\n",
       "|Settlement size | 8.125325e-01|     1| 6.602091e-01|"
      ]
     },
     "metadata": {},
     "output_type": "display_data"
    }
   ],
   "source": [
    "# Calcular la desviación estándar, rango intercuartílico y varianza\n",
    "sd_income <- sd(data$Income, na.rm = TRUE)\n",
    "iqr_income <- IQR(data$Income, na.rm = TRUE)\n",
    "var_income <- var(data$Income, na.rm = TRUE)\n",
    "\n",
    "sd_age <- sd(data$Age, na.rm = TRUE)\n",
    "iqr_age <- IQR(data$Age, na.rm = TRUE)\n",
    "var_age <- var(data$Age, na.rm = TRUE)\n",
    "\n",
    "sd_settlement <- sd(data$`Settlement size`, na.rm = TRUE)\n",
    "iqr_settlement <- IQR(data$`Settlement size`, na.rm = TRUE)\n",
    "var_settlement <- var(data$`Settlement size`, na.rm = TRUE)\n",
    "\n",
    "# Crear data frame para mostrar los resultados\n",
    "dispersion <- data.frame(\n",
    "  Variable = c(\"Income\", \"Age\", \"Settlement size\"),\n",
    "  SD = c(sd_income, sd_age, sd_settlement),\n",
    "  IQR = c(iqr_income, iqr_age, iqr_settlement),\n",
    "  Variance = c(var_income, var_age, var_settlement)\n",
    ")\n",
    "# Mostrar resultados\n",
    "kable(dispersion)"
   ]
  },
  {
   "cell_type": "markdown",
   "id": "9a425975-053b-4981-8990-b75287e68634",
   "metadata": {},
   "source": [
    "Los ingresos de los clientes son bastante variables, con diferencias grandes entre unos y otros. La desviación estándar es de 3.81 y el rango intercuartílico de 40,409 lo que nos dice que los ingresos están muy dispersos. En cambio, la edad tiene menos variación, con una desviación estándar de 11.72 y un rango de 15 años, que confirma que el análisis corresponde a jóvenes adultos. \n",
    "\n",
    "Por último, el tamaño de la ciudad donde viven los clientes es bastante similar entre ellos, ya que la desviación estándar es de 0.81 y el rango es de 1, lo que indica que la mayoría vive en ciudades de tamaños parecidos."
   ]
  },
  {
   "cell_type": "markdown",
   "id": "50d21813-29ca-46cf-b195-4e08532b5f5e",
   "metadata": {},
   "source": [
    "## 1.3. Visualización de Distribuciones"
   ]
  },
  {
   "cell_type": "code",
   "execution_count": 6,
   "id": "a19e8a7a-c5c9-4a6a-ae75-3b593d4064ad",
   "metadata": {},
   "outputs": [
    {
     "data": {
      "image/png": "[encoded data removed]",
      "text/plain": [
       "plot without title"
      ]
     },
     "metadata": {
      "image/png": {
       "height": 420,
       "width": 420
      }
     },
     "output_type": "display_data"
    }
   ],
   "source": [
    "# Crear un histograma de la distribución de la renta\n",
    "ggplot(data, aes(x = Income)) + \n",
    "  geom_histogram(bins = 30, fill = \"blue\", color = \"black\") +\n",
    "  ggtitle(\"Distribución de Renta\")+\n",
    "  theme(plot.title = element_text(hjust =0.5))"
   ]
  },
  {
   "cell_type": "markdown",
   "id": "3201cc09-fdcb-4824-a52a-2f9af5893c7d",
   "metadata": {},
   "source": [
    "La gráfica de histograma tiene una forma de campana, pero está ligeramente sesgada a la derecha. Esto sugiere que hay una menor cantidad de personas con ingresos muy altos. Cada barra representa la frecuencia de ingresos dentro de un rango específico. Las barras más altas indican que más personas se encuentran en ese rango de ingresos."
   ]
  },
  {
   "cell_type": "code",
   "execution_count": 7,
   "id": "b5fd80ba-47e3-4e89-a311-09c9069a6df4",
   "metadata": {},
   "outputs": [
    {
     "data": {
      "image/png": "[encoded data removed]",
      "text/plain": [
       "plot without title"
      ]
     },
     "metadata": {
      "image/png": {
       "height": 420,
       "width": 420
      }
     },
     "output_type": "display_data"
    }
   ],
   "source": [
    "# Crear un histograma de la distribución de la edad\n",
    "ggplot(data, aes(x = Age)) + \n",
    "  geom_histogram(bins = 30, fill = \"green\", color = \"black\") +\n",
    "  ggtitle(\"Distribución de Edad\")+\n",
    "  theme(plot.title = element_text(hjust =0.5))"
   ]
  },
  {
   "cell_type": "markdown",
   "id": "d1f2d9ac-19ef-48a7-9175-2b370744048c",
   "metadata": {},
   "source": [
    "El histograma explica que la mayor concentración de los datos se encuentra en el rango de Age de 20 a 30 años. A medida que la edad aumenta, la frecuencia de personas en rangos de edad superiores disminuye, lo que indica que hay una cantidad menor de personas o clientes en los rangos de edad más altos. Es útil para entender la distribución de edades dentro de un grupo específico, lo que puede ser relevante para estudios demográficos, planificación de servicios, marketing, etc.\n",
    "\n",
    "Además esta información permite orientar las estrategias de marketing y publicidad hacia los grupos de edad más relevantes, adaptando los mensajes y productos a las preferencias de cada segmento de edad. Por ejemplo, los productos dirigidos a jóvenes adultos pueden enfocarse en la tecnología y la moda, mientras que los productos para adultos mayores pueden centrarse en la salud y el bienestar."
   ]
  },
  {
   "cell_type": "code",
   "execution_count": 8,
   "id": "46abb365-e589-40c4-9fee-a937887a9c3b",
   "metadata": {},
   "outputs": [
    {
     "data": {
      "image/png": "[encoded data removed]",
      "text/plain": [
       "plot without title"
      ]
     },
     "metadata": {
      "image/png": {
       "height": 420,
       "width": 420
      }
     },
     "output_type": "display_data"
    }
   ],
   "source": [
    "# Crear un histograma de la distribución del tamaño de la ciudad\n",
    "ggplot(data, aes(x = `Settlement size`)) + \n",
    "  geom_histogram(bins = 30, fill = \"red\", color = \"black\") +\n",
    "  ggtitle(\"Distribución del Tamaño de la Ciudad\")+\n",
    "  theme(plot.title = element_text(hjust =0.5))"
   ]
  },
  {
   "cell_type": "markdown",
   "id": "555a2f94-a32e-4ead-8ccf-acfd3ab16f3b",
   "metadata": {},
   "source": [
    "La gráfica muestra que hay muchas ciudades pequeñas, seguidas de ciudades medianas, pero pocas ciudades grandes. Las barras más altas representan la cantidad de ciudades pequeñas, mientras que la barra más baja representa la cantidad de ciudades grandes. Esto ayuda a entender cómo están distribuidos los clientes."
   ]
  },
  {
   "cell_type": "markdown",
   "id": "59938d42-36ef-46e0-b304-969a1014260c",
   "metadata": {},
   "source": [
    "### 1.3.2. Boxplots"
   ]
  },
  {
   "cell_type": "code",
   "execution_count": 9,
   "id": "0d284f06-dbc4-466a-87c9-2c7910933d41",
   "metadata": {},
   "outputs": [
    {
     "data": {
      "image/png": "[encoded data removed]",
      "text/plain": [
       "plot without title"
      ]
     },
     "metadata": {
      "image/png": {
       "height": 420,
       "width": 420
      }
     },
     "output_type": "display_data"
    }
   ],
   "source": [
    "# Crear boxplots para las variables de renta, edad y tamaño de la ciudad\n",
    "boxplot_income <- ggplot(data, aes(x = \"\", y = Income)) + \n",
    "  geom_boxplot(fill = \"blue\") +\n",
    "  ggtitle(\"Renta\") +\n",
    "  theme(plot.title = element_text(hjust = 0.5))\n",
    "\n",
    "boxplot_age <- ggplot(data, aes(x = \"\", y = Age)) + \n",
    "  geom_boxplot(fill = \"green\") +\n",
    "  ggtitle(\"Edad\") +\n",
    "  theme(plot.title = element_text(hjust = 0.5))\n",
    "\n",
    "boxplot_settlement <- ggplot(data, aes(x = \"\", y = `Settlement size`)) + \n",
    "  geom_boxplot(fill = \"red\") +\n",
    "  ggtitle(\"T Ciudad\") +\n",
    "  theme(plot.title = element_text(hjust = 0.5))\n",
    "\n",
    "# Organizar y mostrar los boxplots en una única visualización\n",
    "grid.arrange(boxplot_income, boxplot_age, boxplot_settlement, ncol = 3)"
   ]
  },
  {
   "cell_type": "markdown",
   "id": "222cb7f8-dfca-4184-bdfb-09f47f5d93c8",
   "metadata": {},
   "source": [
    "Las tres gráficas muestran cómo se distribuyen los ingresos, la edad y el tamaño de las ciudades entre las personas o clientes. La línea dentro de la caja representa la mediana, es decir, el punto donde la mitad de los clientes ganan más y la otra mitad gana menos. De manera similar, la línea en la gráfica de edad muestra la edad mediana. En la gráfica de tamaño de la ciudad, la ausencia de una línea de mediana sugiere que se están utilizando valores discretos, como pequeña, mediana y grande. \n",
    "\n",
    "La caja en sí muestra el rango donde se encuentra el 50% central de los ingresos y edades, lo que nos indica la variabilidad de cada una de las variables analizadas. Los puntos fuera de los bigotes son ingresos, edades o tamaños de ciudades que se consideran inusualmente altos o bajos, conocidos como valores atípicos."
   ]
  },
  {
   "cell_type": "markdown",
   "id": "00864c00-290d-4a43-857d-80d67a7fc3eb",
   "metadata": {},
   "source": [
    "# 2. Análisis de Correlación"
   ]
  },
  {
   "cell_type": "code",
   "execution_count": 10,
   "id": "049cc214-732e-449f-8df5-cf1fd718e3ba",
   "metadata": {},
   "outputs": [
    {
     "data": {
      "text/plain": [
       "\n",
       "\n",
       "|                |    Income|       Age| Settlement size|\n",
       "|:---------------|---------:|---------:|---------------:|\n",
       "|Income          | 1.0000000| 0.3406102|       0.4908809|\n",
       "|Age             | 0.3406102| 1.0000000|       0.1197513|\n",
       "|Settlement size | 0.4908809| 0.1197513|       1.0000000|"
      ]
     },
     "metadata": {},
     "output_type": "display_data"
    }
   ],
   "source": [
    "# Calcular y mostrar la matriz de correlación para las variables\n",
    "cor_matrix <- cor(data[, c(\"Income\", \"Age\", \"Settlement size\")], \n",
    "                  use = \"complete.obs\")\n",
    "\n",
    "kable(cor_matrix)"
   ]
  },
  {
   "cell_type": "markdown",
   "id": "359322a5-6685-442b-863b-bf6c3ee96e03",
   "metadata": {},
   "source": [
    "Las correlaciones entre las variables clave revelan algunos patrones interesantes. Income y Age presentan una correlación positiva moderada (0.34), esto sugiere que a medida aumenta la edad, también lo hace el ingreso, pero en una relacion tan fuerte.\n",
    "\n",
    "Income y Settlement size muestran una correlación más alta (0.49), lo que indica que las personas que viven en ciudades más grandes tienden a tener mayores ingresos. Finalmente, Age y Settlement size tienen una correlación débil (0.12), lo que sugiere que la edad no está fuertemente relacionada con el tamaño de la ciudad.\n",
    "\n",
    "Es importante de tener en cuenta que la edad y el tamaño de la ciudad no son los único factores que influyen en los ingresos, ya que hay otros factores como la educación y la experiencia laboral también juegan un papel importante. Este análisis de correlación puede orientar la estrategia de mercado, pero antes de tomar desiciones es importante de analizar otros factores que puedan influir en los ingresos de los clientes."
   ]
  },
  {
   "cell_type": "markdown",
   "id": "006c0c56-daad-4760-bb6f-fb25e8c57623",
   "metadata": {},
   "source": [
    "# 3. Selección y Preparación de Variables para Clustering"
   ]
  },
  {
   "cell_type": "code",
   "execution_count": 11,
   "id": "33d61163-9162-47f0-a9ea-c594d9ce4f50",
   "metadata": {},
   "outputs": [],
   "source": [
    "#Normalización de las variables Income, Age y Settlement size\n",
    "data_normalized <- data %>%\n",
    "  select(Income, Age, `Settlement size`) %>%\n",
    "  scale()\n",
    "\n",
    "# Convertir a un data frame\n",
    "data_normalized <- as.data.frame(data_normalized)"
   ]
  },
  {
   "cell_type": "markdown",
   "id": "596ea545-fa8c-4640-a900-5b4b9453323e",
   "metadata": {},
   "source": [
    "Antes de ejecutar el algoritmo de clustering, las variables Ingreso, Edad y Tamaño de Ciudad fueron normalizadas utilizando el método z-score mediante la función scale() en R. Este paso fue necesario porque dichas variables presentan escalas muy diferentes. Por ejemplo, los ingresos tienen un rango considerablemente mayor en comparación con la edad o el tamaño de la ciudad. \n",
    "\n",
    "Si no se hubiera aplicado la normalización, el algoritmo K-means habría otorgado más peso al ingreso, distorsionando así la formación de los clusters. Al normalizar con scale(), se garantiza que todas las variables tengan la misma relevancia en el análisis, ya que esta función ajusta los datos para que tengan una media de 0 y una desviación estándar de 1."
   ]
  },
  {
   "cell_type": "markdown",
   "id": "3deeea08-1740-48e3-a94d-97b429f53b31",
   "metadata": {},
   "source": [
    "# 4. Analisis de Clustering"
   ]
  },
  {
   "cell_type": "code",
   "execution_count": 12,
   "id": "1c154755-dc0b-4c67-b792-cff627f3ad1b",
   "metadata": {},
   "outputs": [],
   "source": [
    "# Fija semilla para reproducibilidad\n",
    "set.seed(123)\n",
    "\n",
    "# Ejecuta K-Means con 3 clústeres\n",
    "kmeans_result <- kmeans(data_normalized, centers = 3, nstart = 25)\n",
    "\n",
    "# Añade clúster al dataset\n",
    "data$Cluster <- kmeans_result$cluster"
   ]
  },
  {
   "cell_type": "markdown",
   "id": "472491a7-b4ca-4917-bf2f-2ed4d9ce55c6",
   "metadata": {},
   "source": [
    "## 4.1. Determinación del Número Óptimo de Clústeres"
   ]
  },
  {
   "cell_type": "code",
   "execution_count": 13,
   "id": "ddc37756-d46c-41b7-a7d1-5f216f3eb110",
   "metadata": {},
   "outputs": [
    {
     "data": {
      "image/png": "[encoded data removed]",
      "text/plain": [
       "plot without title"
      ]
     },
     "metadata": {
      "image/png": {
       "height": 420,
       "width": 420
      }
     },
     "output_type": "display_data"
    }
   ],
   "source": [
    "# Generar grafica de método del codo\n",
    "fviz_nbclust(data_normalized, kmeans, method = \"wss\")+\n",
    "   theme(plot.title = element_text(hjust =0.5))"
   ]
  },
  {
   "cell_type": "markdown",
   "id": "6df3a17b-91db-459c-ae57-eb754e421e5c",
   "metadata": {},
   "source": [
    "El gráfico del método del codo sugiere que el número óptimo de clústeres es tres, ya que a partir de este punto la disminución en la suma de las distancias cuadradas dentro de los clústeres es menos significativa. Esto indica que agregar más grupos no aportaría mejoras notables en la segmentación."
   ]
  },
  {
   "cell_type": "code",
   "execution_count": 14,
   "id": "7067a509-ae1d-4847-a1a5-b6e8d442a7f5",
   "metadata": {},
   "outputs": [
    {
     "data": {
      "image/png": "[encoded data removed]",
      "text/plain": [
       "plot without title"
      ]
     },
     "metadata": {
      "image/png": {
       "height": 420,
       "width": 420
      }
     },
     "output_type": "display_data"
    }
   ],
   "source": [
    "# Calcula el número óptimo de clústeres con el método Silhouette\n",
    "fviz_nbclust(data_normalized, kmeans, method = \"silhouette\")+\n",
    "   theme(plot.title = element_text(hjust =0.5))"
   ]
  },
  {
   "cell_type": "markdown",
   "id": "ff6f9b15-be88-4b19-8521-49d8b2fe2397",
   "metadata": {},
   "source": [
    "El método de `Silhouette` confirma este resultado, mostrando que tres clústeres proporcionan la mejor definición de los grupos, con una estructura clara entre los diferentes segmentos de clientes."
   ]
  },
  {
   "cell_type": "markdown",
   "id": "8a8d9e9e-11ac-47c6-9133-857f4a5c8d94",
   "metadata": {},
   "source": [
    "## 4.2. Visualización de los clústeres"
   ]
  },
  {
   "cell_type": "markdown",
   "id": "68888653-c52c-4267-b50b-3ad6115dc28f",
   "metadata": {},
   "source": [
    " # Mostrar los clústeres resultantes del análisis K-Means\n",
    "  fviz_cluster(kmeans_result, data = data_normalized)+\n",
    "     theme(plot.title = element_text(hjust =0.5))"
   ]
  },
  {
   "cell_type": "code",
   "execution_count": 15,
   "id": "e446d55d-a9cd-46d5-ae0d-eb0e45eb238b",
   "metadata": {},
   "outputs": [
    {
     "data": {
      "text/plain": [
       "\n",
       "\n",
       "| Cluster| mean_income| mean_age| mean_settlement|\n",
       "|-------:|-----------:|--------:|---------------:|\n",
       "|       1|    98262.97| 32.33370|       0.0032823|\n",
       "|       2|   158485.37| 54.30400|       1.1333333|\n",
       "|       3|   130329.78| 30.80309|       1.4767932|"
      ]
     },
     "metadata": {},
     "output_type": "display_data"
    }
   ],
   "source": [
    "# Resumir estadísticas por clúster\n",
    "cluster_summary <- data %>%\n",
    "  group_by(Cluster) %>%\n",
    "  summarise(\n",
    "    mean_income = mean(Income, na.rm = TRUE),\n",
    "    mean_age = mean(Age, na.rm = TRUE),\n",
    "    mean_settlement = mean(`Settlement size`, na.rm = TRUE)\n",
    "  )\n",
    "\n",
    "# Mostrar resumen en tabla\n",
    "kable(cluster_summary)"
   ]
  },
  {
   "cell_type": "markdown",
   "id": "5b0a6eb3-5c32-4412-b8c8-41ca2155c39f",
   "metadata": {},
   "source": [
    "La gráfica muestra los resultados del análisis de clústeres K-means, con tres clústeres distintitos representados por tres colores. El clúster 1, representa el color rojo con un ingreso promedio 98262.97 y Edad promedio de 33 años aproximadamente que representa a los clientes jovenes con ingresos equilibrado y que viven en tamaño de ciudad pequeño. El color verde representa con un ingreso de 158485.37 y edad promedio 55 años que agrupa los clientes mayores y con ingresos altos y se residen en la ciudad tamaño medio. Por ultimo el color azul que tienen un ingresos 130329.78, Edad promedio 30.80309 incluye a clientes jovenes con ingresos aproximadamente altos y que vive en la ciudad más grande.\n",
    "\n",
    "Un hallazgo importante es la correlación entre el nivel de ingresos y el tamaño de la ciudad donde residen los clientes. Observamos que, en general, a mayor tamaño de la ciudad, mayores son los ingresos, lo cual sugiere que la urbanización puede estar más fuertemente relacionada con los ingresos que con la edad de los clientes."
   ]
  },
  {
   "cell_type": "code",
   "execution_count": 16,
   "id": "af4a893c-645f-4789-938c-6ad68f970445",
   "metadata": {},
   "outputs": [
    {
     "data": {
      "image/png": "[encoded data removed]",
      "text/plain": [
       "plot without title"
      ]
     },
     "metadata": {
      "image/png": {
       "height": 420,
       "width": 420
      }
     },
     "output_type": "display_data"
    }
   ],
   "source": [
    "# Mostrar gráfico de dispersión 2D de los clústeres\n",
    "fviz_cluster(kmeans_result, data = data_normalized, geom = \"point\")+\n",
    "     theme(plot.title = element_text(hjust =0.5))"
   ]
  },
  {
   "cell_type": "markdown",
   "id": "a9574c8a-be21-4a93-be3f-7d1e5ef68885",
   "metadata": {},
   "source": [
    "# 5. Evaluación de la Calidad del Clustering"
   ]
  },
  {
   "cell_type": "code",
   "execution_count": 17,
   "id": "2ac94ab7-253a-4ea2-a2df-6e0040d72b6a",
   "metadata": {},
   "outputs": [
    {
     "name": "stdout",
     "output_type": "stream",
     "text": [
      "  cluster size ave.sil.width\n",
      "1       1  914          0.50\n",
      "2       2  375          0.18\n",
      "3       3  711          0.34\n"
     ]
    },
    {
     "data": {
      "image/png": "[encoded data removed]",
      "text/plain": [
       "plot without title"
      ]
     },
     "metadata": {
      "image/png": {
       "height": 420,
       "width": 420
      }
     },
     "output_type": "display_data"
    }
   ],
   "source": [
    "# Calcular distancias y coeficiente de Silhouette\n",
    "dist_matrix <- dist(data_normalized)\n",
    "sil <- silhouette(kmeans_result$cluster, dist_matrix)\n",
    "\n",
    "# Mostrar el coeficiente de Silhouette\n",
    "fviz_silhouette(sil)+ \n",
    "  theme(plot.title = element_text(hjust =0.5))"
   ]
  },
  {
   "cell_type": "markdown",
   "id": "f70adcfa-a980-45a6-8282-b6a7ecfc1ec6",
   "metadata": {},
   "source": [
    "La mayoría de los puntos tienen un coeficiente de Silhouette positivo, lo que indica que están bien agrupados dentro de su clúster. Algunos puntos tienen un coeficiente de Silhouette negativo estos puntos podrían estar mal asignados a este clúster.\n",
    "\n",
    "Los puntos con coeficiente negativo están más cerca de los puntos de otros clústeres que de los puntos de su propio clúster, lo que sugiere que este clúster podría no estar tan bien definido. Aún así, se indicaría que la muestra no es significativa donde se tiene un coeficiente negativo, por lo que es aceptable el agrupamiento realizado para la muestra de los datos.\n"
   ]
  },
  {
   "cell_type": "markdown",
   "id": "70dc262e-fbab-44e8-9315-0c2ea942d3a4",
   "metadata": {},
   "source": [
    "# Conclusión"
   ]
  },
  {
   "cell_type": "markdown",
   "id": "9577b407-5c72-42f8-b625-4aaf6f69e69b",
   "metadata": {},
   "source": [
    "El proyecto se segmentó de manera efectiva a los clientes del supermercado utilizando tres variables clave: ingreso, edad y tamaño de ciudad. A través del análisis descriptivo, se identificó un patrón claro: la mayoría de los clientes son jóvenes adultos, con un ingreso promedio de 69,487. Esta información representa una excelente oportunidad para personalizar estrategias comerciales, optimizar campañas de marketing y diseñar ofertas específicas alineadas a las necesidades de cada segmento.\n",
    "\n",
    "Para validar las relaciones entre las variables, se llevó a cabo un análisis de correlación que mostró que los ingresos más altos tienden a asociarse con personas de mayor edad. Además, se observó que los habitantes de ciudades grandes suelen percibir mayores ingresos. Con base en estos resultados, se aplicaron técnicas de clustering, como K-means, determinando el número óptimo de clústeres mediante el método del codo y el coeficiente de silhouette.\n",
    "\n",
    "Segmentos identificados:\n",
    "\n",
    "-   Rojo: Jóvenes con ingresos moderados, residentes en ciudades pequeñas.\n",
    "-   Verde: Adultos mayores con ingresos altos, que viven en ciudades medianas.\n",
    "-   Azul: Jóvenes con ingresos elevados, habitantes de la ciudad más grande.\n",
    "\n",
    "El ingreso se destacó como la variable más determinante en la segmentación, facilitando la clasificación de los clientes según su poder adquisitivo. Esto es clave para adaptar las estrategias comerciales: clientes con ingresos altos suelen mostrar interés en productos premium, mientras que aquellos con ingresos más bajos podrían preferir opciones más accesibles.\n",
    "\n",
    "Por otro lado, la edad también mostró diferencias significativas en los patrones de compra. Los clientes jóvenes tienden a agruparse en clústeres específicos, mientras que los mayores forman otros grupos, lo que permite personalizar las campañas según la etapa de vida de cada cliente y alinear productos y servicios con sus preferencias.\n",
    "\n",
    "# Referencia\n",
    "\n",
    "Dev Sharma. (2021). Customer clustering. <https://www.kaggle.com/datasets/dev0914sharma/customer-clustering/data>.\n"
   ]
  }
 ],
 "metadata": {
  "kernelspec": {
   "display_name": "R",
   "language": "R",
   "name": "ir"
  },
  "language_info": {
   "codemirror_mode": "r",
   "file_extension": ".r",
   "mimetype": "text/x-r-source",
   "name": "R",
   "pygments_lexer": "r",
   "version": "4.4.1"
  }
 },
 "nbformat": 4,
 "nbformat_minor": 5
}
